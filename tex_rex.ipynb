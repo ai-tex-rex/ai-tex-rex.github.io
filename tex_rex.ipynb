{
 "cells": [
  {
   "cell_type": "code",
   "execution_count": 1,
   "metadata": {},
   "outputs": [],
   "source": [
    "from IPython.display import display, Markdown"
   ]
  },
  {
   "cell_type": "code",
   "execution_count": 2,
   "metadata": {},
   "outputs": [],
   "source": [
    "openr_api_key = \"Your openrouter api key\""
   ]
  },
  {
   "cell_type": "code",
   "execution_count": 3,
   "metadata": {},
   "outputs": [],
   "source": [
    "bad_abstract = [\"\"\"This paper presents and assesses a framework lbr an engineering capstone design program. \n",
    "We explain how student preparation, project selection, and instructor mentorship are the three\n",
    "key elements that must be addressed before the capstone experience is ready for the students.\n",
    "Next, we describe a way to administer and execute the capstone design experience including design workshops and lead engineers.\n",
    "We describe the importance in assessing the capstone design experience and report recent assessment results of our framework.\n",
    "We comment specifically on what students thought were the most important aspects of their experience in engineering capstone \n",
    "design and provide quantitative insight into what parts of the framework are most important.\"\"\",\n",
    "\n",
    "\"\"\"\n",
    "이 논문은 엔지니어링 캡스톤 설계 프로그램의 프레임워크를 제시하고 평가합니다.\n",
    "학생 준비, 프로젝트 선택, 강사 멘토링의 세 가지 과정을 설명합니다.\n",
    "학생들을 위한 최종 경험이 준비되기 전에 해결해야 할 핵심 요소입니다.\n",
    "다음으로, 디자인 워크숍과 수석 엔지니어를 포함한 캡스톤 디자인 경험을 관리하고 실행하는 방법을 설명합니다.\n",
    "우리는 캡스톤 설계 경험을 평가하는 것의 중요성을 설명하고 프레임워크의 최근 평가 결과를 보고합니다.\n",
    "우리는 학생들이 엔지니어링 관석 경험의 가장 중요한 측면이라고 생각한 것이 무엇인지 구체적으로 설명합니다.\n",
    "프레임워크의 어떤 부분이 가장 중요한지에 대한 정량적 통찰력을 설계하고 제공합니다.\n",
    "\"\"\",\n",
    "\"\"\"本文提出并评估了工程顶点设计程序的框架。\n",
    "我们解释了学生准备、项目选择和导师指导是如何实现这三者的\n",
    "在为学生准备好顶点体验之前必须解决的关键要素。\n",
    "接下来，我们描述一种管理和执行顶点设计经验的方法，包括设计研讨会和首席工程师。\n",
    "我们描述了评估顶点设计经验的重要性，并报告了我们框架的最新评估结果。\n",
    "我们特别评论了学生认为他们的工程顶点经验中最重要的方面\n",
    "设计并定量分析框架的哪些部分最重要。\"\"\",\n",
    "\"\"\"Porous corrosion deposits on nuclear fuel cladding, known as CRUD, can cause multiple operational problems in light water reactors (LWRs). \n",
    "CRUD can cause accelerated corrosion of the fuel cladding, increase radiation fields and hence greater exposure risk to plant workers once activated, \n",
    "and induce a downward axial power shift causing an imbalance in core power distribution. \n",
    "In order to facilitate a better understanding of CRUD's effects, such as localized high cladding surface temperatures related to accelerated corrosion rates, \n",
    "we describe an improved, fully-coupled, multiphysics model to simulate heat transfer, chemical reactions and transport, and two-phase fluid flow within these deposits. \n",
    "Our new model features a reformed assumption of 2D, two-phase film boiling within the CRUD, correcting earlier models' assumptions of single-phase coolant flow with wick boiling under high heat fluxes. \n",
    "This model helps to better explain observed experimental values of the effective CRUD thermal conductivity. \n",
    "Finally, we propose a more complete set of boiling regimes, or a more detailed mechanism, to explain recent CRUD deposition experiments by suggesting the new concept of double dryout specifically in thick porous media with boiling chimneys.\"\"\"\n",
    ",\n",
    "\"\"\"\n",
    "Recent developments have made it possible to consider high-temperature superconductor (HTS) for the design of tokamak toroidal field (TF) magnet systems,\n",
    "potentially influencing the overall design and maintenance scheme of magnetic fusion energy devices.\n",
    "Initial assessments of the engineering challenges and cryogenic-dependent cost and parameters of a demountable, HTS TF magnet system have been carried out using the Vulcan tokamak conceptual design (R=1.2m,a=0.3m,B0 =7T) as a baseline.\n",
    "Jointed at the midplane to allow vertical removal of the primary vacuum vessel and routine maintenance of core components, structural D-shaped steel support cases provide cryogenic cooling for internally routed YBCO superconducting cables. \n",
    "The cables are constructed by layering ∼50 μm thick commercially available YBCO tape, and the interlocking steel support cases self align during assembly to form internal resistive joints between YBCO cables. \n",
    "It is found that designing the TF magnet system for operation between 10 K and 20 K minimizes the total capital and operating cost. \n",
    "Since YBCO is radiation-sensitive, Monte Carlo simulation is used to study advanced shielding materials compatible with the small size of Vulcan. \n",
    "An adequate shield is determined to be 10 cm of zirconium borohydride, which reduces the nuclear heating of the TF coils by a factor of 11.5 and increases the YBCO tape lifetime from two calendar\n",
    "years in the unshielded case to 42 calendar years in the shielded case. Although this initial study presents a plausible conceptual design, \n",
    "future engineering work will be required to develop realistic design solutions for the TF joints, support structure, and cryogenic system.\n",
    "\"\"\",\n",
    "\"\"\"Knowledge of mechanical and physical property evolution due to irradiation damage is essential for the development of future fission and fusion reactors. \n",
    "Ion-irradiation provides an excellent proxy for studying irradiation damage, allowing high damage\n",
    "doses without sample activation. Limited ion-penetration-depth means that only few-micron-thick damaged layers are produced. \n",
    "Substantial effort has been devoted to probing the mechanical properties of these thin implanted layers. \n",
    "Yet, whilst key to reactor design, their thermal transport properties remain largely unexplored due to a lack of suitable measurement techniques.\n",
    "Here we demonstrate non-contact thermal diffusivity measurements in ion-implanted tungsten for nuclear fusion armour.\n",
    "Alloying with transmutation elements and the interaction of retained gas with implantation-induced defects both lead to dramatic reductions in thermal diffusivity.\n",
    "These changes are well captured by our modelling approaches. Our observations have important implications for the design of future fusion power plants.\"\"\"\n",
    "]"
   ]
  },
  {
   "cell_type": "code",
   "execution_count": null,
   "metadata": {},
   "outputs": [],
   "source": [
    "from abstract.abstract_maker import AbstractAnalyzer\n",
    "\n",
    "\n",
    "analyzer = AbstractAnalyzer(api_key=openr_api_key)\n",
    "result = await analyzer.analyze_abstract(bad_abstract[-1])\n",
    "analyzer.display_results(result)\n",
    "analyzer.analysis_results, analyzer.analysis_results_condensed"
   ]
  },
  {
   "cell_type": "code",
   "execution_count": 10,
   "metadata": {},
   "outputs": [],
   "source": [
    "bad_introduction = [\"\"\"Over the past few years, there has been widespread agreement that the use of green energy is critical to long-term growth. After decades of research, photovoltaic (PV) technology has achieved significant advances. So far, dye-sensitized solar cells (DSSCs), (1) organic photovoltaics (OPVs), (2) and perovskite solar cells (PSCs) have been the primary focus of next-generation solar cell research. (3−6) PSCs have made remarkable progress by improving their PCE from 3.8% (7) in 2009 to 26.7% (8) to date. This rapid progress is mostly owing to perovskite materials’ excellent photoelectric properties, which include a long carrier diffusion length, (9) a broad light absorption spectrum, (10,11) minimal exciton binding energy, (12) high charge transport capacity, and reduced defect density. (13) Planar PSCs are popular due to their easy preparation and impressive PSC performance. (14−20) Especially, the inverted p–i–n structure offers several commercialization benefits such as greater stability, fewer hysteresis, and low-temperature processing. (21) In PSCs, hole transport materials (HTMs) play a crucial role in the disassociation of electron–hole pairs by effectively transporting holes while blocking electrons. (22,23) Commonly used HTMs in inverted planar PSCs include NiOx, (24−26) poly[bis(4-phenyl)(2,4,6-trimethylphenyl)amine] (PTAA), and poly(3,4-ethylene dioxythiophene) (PEDOT). (27,28) PEDOT and NiOx have recently been replaced in PSCs by organic small molecules that self-assemble into a monolayer (SAM) on the ITO surface. (29−32) Utilizing SAM molecules for PSC offers several advantages, including simple preparation, tunable energy levels, reduced recombination loss, and easy processing. (33−37) Consequently, there has been significant attention focused on tailoring ITO surface states with suitable SAMs.\n",
    "Thus far, several π-conjugated organic molecules have been explored as SAMs in Pb-PSCs, serving as passivants and additives to enhance performance. (38) For instance, dimethoxydiphenylamine-substituted carbazole V1036 was first designed by Getautis et al. and used as the dopant-free hole-transporting SAM, achieving a PCE of 17.8%, (39) as shown in Figure 1a. Guo et al. developed benzo[c][1,2,5]-thiadiazole (BT)-based MPA-BT-CA as a donor–acceptor-type molecule and applied it in inverted Pb-PSCs, achieving a high PCE of 21.24%. (40) Similarly, Hong et al. synthesized a phenothiazine-based Br-2EPT SAM that minimizes nonradiative recombination losses, leading to an improved PCE of 22.44%. (36) Furthermore, Jen et al. developed carbazole-derived helical π-expanded CbzNaph, which formed a densely packed and ordered monolayer and thus resulted in an excellent PCE of 24.1% with increased stability. Currently, TPSCs are becoming a promising alternative for advancing lead-free PSCs, achieving record PCEs of 15.7 (42) and 15.38% (43) by using 4-fluorophenethylamine hydrobromide as an interfacial dipole and isomeric fulleropyrrolidines as additives, respectively. Although TPSCs still lag behind their lead-based counterparts in performance, tin perovskites have a smaller bandgap compared to lead perovskites, suggesting that TPSCs could potentially achieve a greater theoretical PCE than Pb-PSCs. (44,45) To prevent Sn2+/Sn4+ oxidation, passivate surface flaws, and control crystal formation in TPSCs, various additive engineering strategies have been employed. (46−56) As an example, our group recently implemented SAMs of MeO-2PACz (57) and TQx (58) in TPSCs, achieving PCEs of 6.5 and 8.0%, respectively (Figure 1a).\n",
    "Bithiophene imide (BTI) is a unique building block for the development of polymeric semiconductors and small molecules for applications of OTFTs, (59−61) OPVs, (62,63) and PSCs (64−66) (Figure 1b). As seen in the figure, BTI is a representative electron-deficient polycyclic organic building block with a planar conjugated backbone, short π–π distance, and adjustable solubilizing alkyl groups. Inspired by these excellent properties, a series of BTI-based SAM molecules were developed in the present study, utilizing BTI as the core. The high-electron donating capability of 4,4′-dimethoxytriphenylamine means that it can be used as an effective electron donor, facilitating efficient charge transport to the perovskite layer. As for the anchoring groups, an electron-withdrawing cyanoacrylic acid or dicyanovinyl group has been reported. Lewis base characteristics of these groups make them efficient passivation sites for lead perovskites, which facilitates interaction with Pb2+ ion defects. (67) Similarly, carboxylic and cyano groups can adhere to the ITO surface, altering its work function and enhancing interfacial interactions. (68) Furthermore, these highly polar functional groups increase the solubility of specific compounds in polar solvents, which is advantageous for solution-processable device fabrication. (40) The dicyanovinyl group is thus utilized as the anchoring unit for the development of new BTI-MN SAMs for TPSCs.\n",
    "Figure 1c illustrates the chemical structures of three new SAM molecules developed and studied in this work, named BTI-MN-b4 (1), BTI-MN-b8 (2), and BTI-MN-b16 (3). With the anchoring groups (CN) positioned at one end of the BTI core and the donor moiety 4,4′-dimethoxytriphenylamine at the other end, the new SAMs demonstrate significantly enhanced anchoring strength on the surface of NiOx/ITO, leading to a suitable molecular alignment and improved interaction with the perovskite layer. It is corroborated by the single crystal structure of the BTI-MN-b8 (2) molecule, grown using the slow solvent evaporation method. The presence of intramolecular interactions could facilitate the formation of a uniform and dense SAM produced on the NiOx/ITO substrate, promoting efficient charge transport. Combining these new BTI-based SAMs with NiOx as HTMs for TPSCs, a high power conversion efficiency (PCE) of 8.6% is demonstrated by using BTI-MN-b8 (2). This represents, to the extent of our understanding, the prime example of using a simple dye-based SAM in combination with NiOx as an HTM to achieve a PCE exceeding 8% in high-performance TPSCs. This study aims to showcase the synthesis of organic SAMs (1–3) of the D–A type for use in TPSCs with NiOx. By reducing trap-assisted recombination, minimizing the energy offset between NiOx and perovskite, improving perovskite crystallization, and enhancing the surface properties of the HTM, we ultimately boost the overall performance of PSCs.\n",
    "\"\"\"]"
   ]
  },
  {
   "cell_type": "code",
   "execution_count": null,
   "metadata": {},
   "outputs": [],
   "source": [
    "from introduction.introduction_maker import IntroductionAnalyzer\n",
    "\n",
    "\n",
    "analyzer = IntroductionAnalyzer(api_key=openr_api_key)\n",
    "\n",
    "result = await analyzer.analyze_introduction(bad_introduction[-1])\n",
    "analyzer.display_results(result)\n",
    "analyzer.analysis_results, analyzer.analysis_results_condensed"
   ]
  },
  {
   "cell_type": "code",
   "execution_count": 12,
   "metadata": {},
   "outputs": [],
   "source": [
    "bad_methods = [\"\"\"2. Experimental SectionClick to copy section link\n",
    "2.1. Materials\n",
    "\n",
    "Titanium(IV) chloride (TiCl4, Sigma-Aldrich, ≥99.0%) is utilized as the precursor in the titanium solution. The precursor solution of Cs0.17FA0.83Pb(I0.83Br0.17)3 perovskite consists of N,N-dimethylformamide (DMF, Sigma-Aldrich, anhydrous 99.8%), dimethyl sulfoxide (DMSO, Sigma-Aldrich, anhydrous 99.9%), anisole (Sigma-Aldrich, 99.7%), cesium iodide (CsI, Sigma-Aldrich, 99.9%), formamidinium iodide (FAI, Greatcell Solar Materials, 99.99%), lead bromide (PbBr2, Sigma-Aldrich, 99.999%), and lead iodide (PbI2, Alfa Aesar, 99.985%). The precursor solution for MAPbI3 QDs contains oleic acid (OA, Sigma-Aldrich, ≥99.0%), oleylamine (OLM, Sigma-Aldrich, 70.0%), chlorobenzene (CB, Sigma-Aldrich, anhydrous 99.8%), methylammonium iodide (MAI, Greatcell Solar Materials, 99.99%), and lead iodide (PbI2, Alfa Aesar, 99.985%). Spiro-OMeTAD (Feiming Chemical, 99.86%) was prepared using the precursor solution for chlorobenzene (CB, Sigma-Aldrich, anhydrous 99.8%), 4-tert-butylpyridine (4TBP, Sigma-Aldrich, 96%), and bis(trifluoromethane)sulfonimide lithium (LiTFSI, Ossila). The carbon electrodes were purchased from JuJo Chemicals Co. Ltd. (Jelcon-CH8).\n",
    "2.2. Synthesis of Room-Temperature MAPbI3 QDs\n",
    "\n",
    "To prepare the MAPbI3 QD solution, the ligand-assisted reprecipitation method was employed. (17) The solid precursors (6.3 mg of MAI, 23 mg of PbI2) were dissolved in chlorobenzene (2 mL). Subsequently, 20 μL of oleic acid (OA) and 10 μL of oleylamine (OLM) ligands were added. The mixture was then vigorously stirred at room temperature for 2 h. The stirring promotes uniform mixing of reactants, preventing aggregation and ensuring consistent nucleation and growth. The stirring rate can control the size of the nanoparticles, while higher rates typically promote smaller particles through more rapid nucleation. The carboxylic acids from OA can prevent coagulation of the MAPbI3 through steric repulsion, and amines from OLM can integrate in controlling the crystallization of MAPbI3. Such ligands consist of a long alkyl tail and polar head, which binds to an atom or ions at the surface of MAPbI3. Over this stirring period, the initial yellow precursor solution transitioned to a red-brown color. Following centrifugation at 8000 rpm for 10 min to control the crystal size, a clear red-brown colloidal solution was obtained and the MAPbI3 QD solution was separated from the sediment at the bottom of the centrifuge tube by filtration. (18,19) The MAPbI3 QD solution was further utilized for perovskite surface treatment.\n",
    "2.3. Fabrication of Perovskite Solar Cells\n",
    "\n",
    "The fluorine-doped tin oxide (FTO) coating on glass substrates was thoroughly cleaned by using ultrasonic sonication for a duration of 15 min. The cleaning process involved the use of Alconox with deionized water, acetone, ethanol, and isopropanol. Next, the cleaned FTO was annealed for 15 min at 135 °C and then exposed to UV-ozone for 15 min to eradicate organic contaminants and improve their hydrophilicity. Subsequently, the TiO2–NP solution (20) was coated by spinning onto the cleaned FTO at 2500 rpm for 40 s and then annealed at 155 °C on the hot plate for 30 min. Then, the TiO2–NP-coated FTO underwent a 10 min treatment with UV-ozone. The preparation of the Cs0.17FA0.83Pb(I0.83Br0.17)3 perovskite precursor solution involved dissolving CsI, FAI, PbBr2, and 4% excess of PbI2 in a 4:1 ratio of DMF:DMSO. (21) The pristine perovskite film was created by applying the solution over the TiO2–NP ETL layers using spin-coating for 13 s at 1000 rpm and then 30 s at 4000 rpm. Anisole, measuring 180 μL, was applied to the perovskite film during the final 5 s of the spinning process. Subsequently, the films underwent annealing at a temperature of 130 °C for a period of 15 min. (22) Afterward, an ultrathin MAPbI3 QD layer was created by spin-coating 100 μL of the MAPbI3 QDs onto the pristine perovskite layer for 30 s at three different spin-coating rates: 3000, 4000, and 5000 rpm. The specimens were subsequently subjected to annealing at 90 °C for 2 min. (13) The entirety of the procedures was carried out inside a homemade glovebox filled with air, maintaining a temperature range of 25–27 °C and 30–35% relative humidity (RH). The spiro-OMeTAD solution was created by dissolving 65.07 mg of spiro-OMeTAD in 900 μL of chlorobenzene, along with 25.29 μL of 4-tert-butylpyridine and 15.75 μL of bis(trifluoromethane)sulfonimide lithium (LiTFSI) (520 mg of LiTFSI in 1 mL of acetonitrile). The HTL was then formed by spin-coating the spiro-OMeTAD layer on top of the MAPbI3 QD layer at 3000 rpm for 30 s. Ultimately, the carbon electrode, fabricated using a solvent interlacing technique, was applied on top of the HTL layer. (23) This was carried out at 25 °C under a pressure of 0.6 MPa for a duration of 5 min. Afterward, it was repeated at 50 °C and at the same pressure for 3 min. (24)\n",
    "2.4. Measurement and Characterization Instrument\n",
    "\n",
    "MAPbI3 QDs were initially deposited on STEM Cu100P grids to prepare samples for transmission electron microscopy (TEM). The TEM images were obtained using a JEM 2010 microscope operating at 200 kV, after all samples had been dried overnight. The field-emission scanning electron microscope (FESEM) using a JSM-7001F JEOL instrument was used to analyze the morphological properties of cross-sectional and surface views of the samples. Surface images of the MAPbI3 QDs were observed using atomic force microscopy (AFM) (XE 70 model, Park System). Steady-state photoluminescence (PL) was investigated by using an ASEQ LR-1T (ASEQ Instruments, Canada) spectrometer configured with excitation at 405 nm. A 405 nm pulsed diode laser was employed to measure time-resolved photoluminescence (TRPL) spectra. The ultraviolet–visible spectrophotometer (UV–vis) (Lambda 35, PerkinElmer) was employed to analyze the absorption spectrum. The structure and crystallinity of the samples were investigated by using a Cu K radiation-equipped X-ray diffractometer (XRD, Rigaku; λ = 1.5406 Å). Elemental compositions of the MAPbI3 QDs were investigated via photoelectron spectroscopy (XPS) using a Kratos Axis Ultra DLD machine equipped with a monochromatic Al K X-ray source (1.4 keV). Electrochemical impedance spectra (EIS) were measured with a PGSTAT 302 N Autolab, using an appropriate circuit to fit the resulting data. Current–voltage (J–V) measurements for all samples were conducted using a solar simulator (25 °C, 100 mW/cm2) of light intensity equipped with a Keithley 2401 source meter (Ossila Ltd.). The surface areas of the photo mask and PSC device are 0.04 cm2 and 2.0 × 2.5 cm2, respectively. Ultraviolet photoelectron spectroscopy (UPS) was performed using a photon energy (Ephoton) of 60 eV at beamline 3.2 Ua/b of the Synchrotron Light Research Institute in Thailand.\"\"\",\n",
    "\"\"\"Classical Molecular Dynamics Simulation\n",
    "\n",
    "All classical molecular dynamics (MD) simulations were executed with the large scale atomic/molecular massively parallel simulator (LAMMPS). (34) For all electrolyte systems, electrolytes were first packed randomly in a cubic box with periodic boundaries of size 80 × 80 × 80 Å3 using PACKMOL (35) and allowed to optimize in an NPT ensemble simulation at 300 K. Subsequently, an NVT ensemble simulation at 300 K was conducted for 10 ns. The deafult Nosé–Hoover thermostat and barostat were used. A convergence criterion of 1.0 × 10–4 eV was adopted to minimize the initial configuration, and the sampling of the radial distribution functions was carried out in an NVT ensemble at 300 K for another 10 ns. The parameters for nonbonded and bonded interactions (bonds, angles, dihedrals, and improper dihedrals) across all structures were derived from the optimized potentials for liquid simulations all atom (OPLS-AA) force fields. (36) Atomic partial charges were calculated by fitting the molecular electrostatic potential at atomic centers in Gaussian16 (37) using the HF/6-31G(d) level of theory. (38)\"\"\",\n",
    "\n",
    "\"\"\"\"The morphology of LCO particles and the lithium metal anode after cycling was observed by using a scanning electron microscope (SEM). The SEM model used was a Hitachi S4800, operating at a voltage of 5 kV. Both the cathode and anode samples were cleaned with DME prior to observation to prevent residual electrolyte from affecting the results. The samples were cut into 5 mm × 5 mm pieces and attached to a metal stage for observation. During transfer, both the cathode and anode samples were placed in a container filled with Ar gas to minimize exposure to air, avoiding the impact of oxygen and moisture. SEM analysis revealed surface film formation at the interfaces of both the cathode and the anode.\n",
    "X-ray photoelectron spectroscopy (XPS) tests were conducted using a MDTC-EQ-M20-01 instrument. All XPS spectra were referenced to adventitious carbon at 284.8 eV. CasaXPS (50) was used to analyze the XPS spectra. All XPS samples were washed with DME. Similarly, during transportation, the samples were placed in a container filled with argon gas to minimize contact with air. The analysis of chemical compositions on the electrode surface was conducted in situ, with different Ar sputtering times of 0, 2, and 4 min.\n",
    "The Raman spectroscopy testing process involves the following steps: The prepared electrolyte is diluted with deuterated dimethyl sulfoxide in a volume ratio of 1:9. This mixing process is conducted inside a glovebox to ensure the absence of any solid precipitation in the diluted solution. The resulting mixture is then analyzed using a Raman spectrometer, specifically the inVia Reflex model from Renishaw (U.K.), with a testing light wavelength of 532 nm. Note that since deuterated dimethyl sulfoxide contains no hydrogen atoms, no hydrogen-related peaks will appear in the spectrum, ensuring no interference with the test results.\n",
    "The Raman spectral data were preprocessed by applying a polynomial baseline correction (51) and vector normalization. (52) A third-degree polynomial fit was used to approximate the background, which was then subtracted from the raw intensity data to reduce the influence of background noise. After baseline correction, the spectra were vector normalized by dividing the baseline-corrected intensity values by the Euclidean norm of the spectrum, allowing for a consistent comparison across samples. To further reduce noise and enhance signal clarity, the data were smoothed using a Savitzky–Golay filter (53) with a window length of 11 and polynomial order of 3, preserving peak shapes while minimizing high-frequency noise.\"\"\"\n",
    "]"
   ]
  },
  {
   "cell_type": "code",
   "execution_count": null,
   "metadata": {},
   "outputs": [],
   "source": [
    "from methods.methods_maker import MethodsAnalyzer\n",
    "\n",
    "analyzer = MethodsAnalyzer(api_key=openr_api_key)\n",
    "result = await analyzer.analyze_methods(bad_methods[-2])\n",
    "analyzer.display_results(result)\n",
    "analyzer.analysis_results, analyzer.analysis_results_condensed"
   ]
  },
  {
   "cell_type": "code",
   "execution_count": 14,
   "metadata": {},
   "outputs": [],
   "source": [
    "bad_results_discussion = [\"\"\"Interface issues dominate the overall performance of Li metal batteries. Building upon prior investigations into the influence of solvation structure on electronic properties, (54−57) it is believed that SEI f5ormation is governed by Li+ solvation. The electrochemical behavior and the redox potentials, therefore, cannot be understood by only analyzing the HOMO and LUMO of isolated molecules. Li+ solvation affects not only the molecular orbitals but also the potential energy surface of reactive species on the electrode surface. Therefore, to investigate the reductive behavior of a liquid-state electrolyte, accounting for Li+ solvation is essential.\n",
    "Figure 1 shows the HOMO and LUMO of DME, PFBS–, and bis(trifluoromethanesulfonyl)imide (TFSI–) with varying degrees of Li+ coordination, as obtained from quantum-chemical calculations. Specifically, isolated, singly Li-coordinated, and doubly Li-coordinated configurations were examined for DME, PFBS–, and TFSI–. An increase in the degree of coordination leads to analogous reductions in both HOMO and LUMO for DME and PFBS–.\n",
    "A lower LUMO energy indicates a preference for reduction at the anode, and the electronic structure of the electrolyte components is therefore a critical factor in the formation of the SEI. Conversely, a higher HOMO energy indicates preferential oxidation at the cathode, leading to the formation of the CEI layer. Lithium-ion coordination significantly lowers the LUMO energy levels of species in the electrolyte, indicating that species coordinated with lithium are more likely to participate preferentially in the formation of the SEI in a LiPFBS/DME electrolyte system.\n",
    "In this work, DME as a solvent was expected to be reduced before any anion species because of its lower LUMO energy in different coordination environments. However, as seen in Figure 1, the range of LUMO energies of both TFSI– and PFBS– overlaps with that of DME, indicating that these two species also have the potential to participate in SEI formation.\"\"\",\n",
    "]"
   ]
  },
  {
   "cell_type": "code",
   "execution_count": null,
   "metadata": {},
   "outputs": [],
   "source": [
    "from results_discussion.results_maker import ResultsAnalyzer\n",
    "\n",
    "analyzer = ResultsAnalyzer(api_key=openr_api_key)\n",
    "\n",
    "result = await analyzer.analyze_results(bad_results_discussion[-1])\n",
    "analyzer.display_results(result)\n",
    "analyzer.analysis_results, analyzer.analysis_results_condensed"
   ]
  },
  {
   "cell_type": "code",
   "execution_count": 16,
   "metadata": {},
   "outputs": [],
   "source": [
    "bad_conclusion = [\"\"\"In summary, we have comprehensively investigated a novel LiPFBS/DME electrolyte system at different salt concentrations including its SEI/CEI formation mechanism, electrochemical behavior, and cell performance. We have engineered a high-concentration electrolyte capable of enabling 4.6 V Li∥LCO batteries. By integrating DFT calculations, MD simulations, and X-ray photoelectron spectroscopy (XPS), we provided a thorough perspective on SEI/CEI formation and its correlation with cell performance. Compared with 1 M LiTFSI/DME, LiPFBS/DME exhibits a lower HOMO energy level and preferentially oxidizes at the cathode surface, making the high-voltage application of DME realistic. Additionally, the benefits of a stable DME-derived SEI are still preserved, providing decent full-cell performance under a working voltage of 3.0–4.6 V working voltage. We anticipate that this work can guide general electrolyte design and pave the way for next-generation high-energy-density Li metal batteries.\"\"\",]"
   ]
  },
  {
   "cell_type": "code",
   "execution_count": null,
   "metadata": {},
   "outputs": [],
   "source": [
    "from conclusion.conclusion_maker import ConclusionAnalyzer\n",
    "\n",
    "analyzer = ConclusionAnalyzer(api_key=openr_api_key)\n",
    "\n",
    "result = await analyzer.analyze_conclusion(bad_conclusion[-1])\n",
    "analyzer.display_results(result)\n",
    "analyzer.analysis_results, analyzer.analysis_results_condensed"
   ]
  },
  {
   "cell_type": "code",
   "execution_count": null,
   "metadata": {},
   "outputs": [],
   "source": [
    "bad_figure = 'your_PNG_image'\n",
    "\n",
    "from figure.figure_maker import FigureAnalyzer\n",
    "\n",
    "analyzer = FigureAnalyzer(api_key=openr_api_key)\n",
    "result = await analyzer.analyze_figures(bad_figure)\n",
    "analyzer.display_results(result)\n",
    "analyzer.analysis_results, analyzer.analysis_results_condensed"
   ]
  },
  {
   "cell_type": "code",
   "execution_count": null,
   "metadata": {},
   "outputs": [],
   "source": []
  }
 ],
 "metadata": {
  "kernelspec": {
   "display_name": "Python 3",
   "language": "python",
   "name": "python3"
  },
  "language_info": {
   "codemirror_mode": {
    "name": "ipython",
    "version": 3
   },
   "file_extension": ".py",
   "mimetype": "text/x-python",
   "name": "python",
   "nbconvert_exporter": "python",
   "pygments_lexer": "ipython3",
   "version": "3.11.11"
  }
 },
 "nbformat": 4,
 "nbformat_minor": 2
}
